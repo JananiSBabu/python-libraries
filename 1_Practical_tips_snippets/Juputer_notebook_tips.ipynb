{
 "cells": [
  {
   "cell_type": "markdown",
   "metadata": {},
   "source": [
    "# Jupyter notebook tips"
   ]
  },
  {
   "cell_type": "markdown",
   "metadata": {},
   "source": [
    "1. This gets all the installed packages\n",
    "https://stackoverflow.com/questions/40428931/package-for-listing-version-of-packages-used-in-a-jupyter-notebook"
   ]
  },
  {
   "cell_type": "code",
   "execution_count": 1,
   "metadata": {},
   "outputs": [
    {
     "data": {
      "text/plain": [
       "'9.0.1'"
      ]
     },
     "execution_count": 1,
     "metadata": {},
     "output_type": "execute_result"
    }
   ],
   "source": [
    "import pip #needed to use the pip functions\n",
    "pip.__version__"
   ]
  },
  {
   "cell_type": "code",
   "execution_count": 2,
   "metadata": {},
   "outputs": [
    {
     "name": "stdout",
     "output_type": "stream",
     "text": [
      "tensorflow 2.3.1\n",
      "tensorflow-estimator 2.3.0\n",
      "tensorboard 2.3.0\n",
      "rsa 4.6\n",
      "requests-oauthlib 1.3.0\n",
      "pyasn1 0.4.8\n",
      "pyasn1-modules 0.2.8\n",
      "opt-einsum 3.3.0\n",
      "oauthlib 3.1.0\n",
      "numpy 1.18.5\n",
      "Keras-Preprocessing 1.1.2\n",
      "google-pasta 0.2.0\n",
      "google-auth 1.22.1\n",
      "google-auth-oauthlib 0.4.1\n"
     ]
    }
   ],
   "source": [
    "count=1\n",
    "for i in pip.get_installed_distributions(local_only=True):\n",
    "    if count < 15: #print only first 15 packages\n",
    "        print(i)\n",
    "    count = count + 1"
   ]
  },
  {
   "cell_type": "markdown",
   "metadata": {},
   "source": [
    "2. To get the list of packages from current notebook"
   ]
  },
  {
   "cell_type": "code",
   "execution_count": 3,
   "metadata": {},
   "outputs": [
    {
     "data": {
      "text/plain": [
       "['builtins', 'builtins', 'pip', 'types']"
      ]
     },
     "execution_count": 3,
     "metadata": {},
     "output_type": "execute_result"
    }
   ],
   "source": [
    "import types\n",
    "def imports():\n",
    "    for name, val in globals().items():\n",
    "        if isinstance(val, types.ModuleType):\n",
    "            yield val.__name__\n",
    "list(imports())"
   ]
  },
  {
   "cell_type": "code",
   "execution_count": null,
   "metadata": {},
   "outputs": [],
   "source": []
  }
 ],
 "metadata": {
  "kernelspec": {
   "display_name": "Python 3",
   "language": "python",
   "name": "python3"
  },
  "language_info": {
   "codemirror_mode": {
    "name": "ipython",
    "version": 3
   },
   "file_extension": ".py",
   "mimetype": "text/x-python",
   "name": "python",
   "nbconvert_exporter": "python",
   "pygments_lexer": "ipython3",
   "version": "3.7.7"
  }
 },
 "nbformat": 4,
 "nbformat_minor": 4
}
