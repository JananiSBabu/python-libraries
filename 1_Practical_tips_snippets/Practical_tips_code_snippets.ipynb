{
 "cells": [
  {
   "cell_type": "markdown",
   "metadata": {},
   "source": [
    "# Practical tips / Code Snippets\n",
    "\n"
   ]
  },
  {
   "cell_type": "code",
   "execution_count": 10,
   "metadata": {},
   "outputs": [],
   "source": [
    "import numpy as np\n",
    "import pandas as pd\n",
    "import matplotlib.pyplot as plt "
   ]
  },
  {
   "cell_type": "markdown",
   "metadata": {},
   "source": [
    "## List of random indices\n"
   ]
  },
  {
   "cell_type": "code",
   "execution_count": 4,
   "metadata": {},
   "outputs": [
    {
     "name": "stdout",
     "output_type": "stream",
     "text": [
      "[7 0 3 8 5 4 9 1 6 2]\n",
      "[3 9 4 6 7 0 2 1 8 5]\n"
     ]
    }
   ],
   "source": [
    "# set seed for repeatability\n",
    "np.random.seed(1)   \n",
    "\n",
    "print(np.random.permutation(10))\n",
    "print(np.random.permutation(10))"
   ]
  },
  {
   "cell_type": "code",
   "execution_count": 18,
   "metadata": {},
   "outputs": [
    {
     "name": "stdout",
     "output_type": "stream",
     "text": [
      "[1, 80, 94, 78, 20, 73, 35, 67, 54, 88]\n",
      "[1, 80, 94, 78]\n"
     ]
    }
   ],
   "source": [
    "l = list(np.round(np.random.rand(10)*100).astype(int))\n",
    "print(l)\n",
    "c = l[0:4]\n",
    "print(c)"
   ]
  },
  {
   "cell_type": "markdown",
   "metadata": {},
   "source": [
    "## Sampling learning rate on a log scale\n",
    "\n",
    "If we want alpha to be sampled in the range of 0.0001 to 1 (10^-4 to 10^0) :\n",
    "\n",
    "* 10 ^ -4 = 0.0001  ( **alpha** )\n",
    "\n",
    "* log(0.0001) to base 10 = -4 ( **r** )\n"
   ]
  },
  {
   "cell_type": "code",
   "execution_count": 58,
   "metadata": {},
   "outputs": [
    {
     "name": "stdout",
     "output_type": "stream",
     "text": [
      "rand_uniform : \n",
      " [0.78 0.38 0.37 0.68 0.61 0.46 0.97 0.95 0.92 0.13]\n",
      "r : \n",
      " [-3. -2. -1. -3. -2. -2. -4. -4. -4. -1.]\n",
      "alpha :\n",
      " [7.25155062e-04 3.06137714e-02 3.22377711e-02 1.85634792e-03\n",
      " 3.71512187e-03 1.48253499e-02 1.31316632e-04 1.55898128e-04\n",
      " 2.07446251e-04 3.15458097e-01]\n"
     ]
    },
    {
     "data": {
      "image/png": "[encoded data removed]",
      "text/plain": [
       "<Figure size 432x288 with 2 Axes>"
      ]
     },
     "metadata": {
      "needs_background": "light"
     },
     "output_type": "display_data"
    }
   ],
   "source": [
    "rand_uniform =  np.random.rand(1000)  # get random numbers from uniform dist (0,1)\n",
    "r = -4 * rand_uniform                 # \"exponent\" = scale by -4 so than r =[-4, 0]\n",
    "alpha = 10 ** r                       # alpha => log(0.0001)    \n",
    "\n",
    "print(\"rand_uniform : \\n\", np.round(rand_uniform[0:10],2))\n",
    "print(\"r : \\n\", np.round(r[0:10]))\n",
    "print(\"alpha :\\n\", alpha[0:10])\n",
    "\n",
    "plt.subplot(1,2,1)\n",
    "plt.hist(r, 50);plt.title(\" r from uniform distribution\");\n",
    "plt.subplot(1,2,2)\n",
    "plt.hist(alpha, 50);plt.title(\"alpha in log scale\");"
   ]
  },
  {
   "cell_type": "code",
   "execution_count": null,
   "metadata": {},
   "outputs": [],
   "source": []
  },
  {
   "cell_type": "code",
   "execution_count": null,
   "metadata": {},
   "outputs": [],
   "source": []
  }
 ],
 "metadata": {
  "kernelspec": {
   "display_name": "Python 3",
   "language": "python",
   "name": "python3"
  },
  "language_info": {
   "codemirror_mode": {
    "name": "ipython",
    "version": 3
   },
   "file_extension": ".py",
   "mimetype": "text/x-python",
   "name": "python",
   "nbconvert_exporter": "python",
   "pygments_lexer": "ipython3",
   "version": "3.7.7"
  }
 },
 "nbformat": 4,
 "nbformat_minor": 4
}
