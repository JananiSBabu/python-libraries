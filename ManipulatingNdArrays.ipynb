{
 "cells": [
  {
   "cell_type": "markdown",
   "metadata": {},
   "source": [
    "# Manipulating NdArrays\n",
    "\n",
    "Numpy arrays are \"Mutable\", can be changed"
   ]
  },
  {
   "cell_type": "code",
   "execution_count": 1,
   "metadata": {},
   "outputs": [],
   "source": [
    "import numpy as np"
   ]
  },
  {
   "cell_type": "code",
   "execution_count": 6,
   "metadata": {
    "scrolled": true
   },
   "outputs": [
    {
     "name": "stdout",
     "output_type": "stream",
     "text": [
      "1\n",
      "2\n",
      "5\n",
      "4\n",
      "2\n",
      "1\n",
      "1\n"
     ]
    }
   ],
   "source": [
    "x = np.array([1, 2, 3, 4, 5])\n",
    "\n",
    "# positive and negative indices\n",
    "print(x[0])\n",
    "print(x[1])\n",
    "print(x[-1])\n",
    "print(x[-2])\n",
    "print(x[-4])\n",
    "print(x[-5])\n",
    "print(x[-0])"
   ]
  },
  {
   "cell_type": "markdown",
   "metadata": {},
   "source": [
    "Accessing elements:\n",
    "\n",
    "rank two nd arrays => ndarray[i, j]"
   ]
  },
  {
   "cell_type": "code",
   "execution_count": 15,
   "metadata": {
    "scrolled": true
   },
   "outputs": [
    {
     "name": "stdout",
     "output_type": "stream",
     "text": [
      "[ 1  2  3 20  5]\n",
      "[[1 2 3]\n",
      " [4 5 6]\n",
      " [7 8 9]]\n",
      "Element at (0,0) :  1\n",
      "Element at (1,2) :  6\n",
      "[[  1   2   3]\n",
      " [  4 235   6]\n",
      " [  7   8   9]]\n"
     ]
    }
   ],
   "source": [
    "x = np.array([1, 2, 3, 4, 5])\n",
    "x[3] = 20\n",
    "print(x)\n",
    "\n",
    "x = np.arange(1,10).reshape(3,3)\n",
    "print(x)\n",
    "print(\"Element at (0,0) : \", x[0, 0])\n",
    "print(\"Element at (1,2) : \", x[1, 2])\n",
    "\n",
    "# modify rank two elements\n",
    "x[1, 1] = 235\n",
    "print(x)"
   ]
  },
  {
   "cell_type": "markdown",
   "metadata": {},
   "source": [
    "**Append / Insert / Delete**\n",
    "\n",
    "Axis=o specifies rows and axis=1 specifies columns"
   ]
  },
  {
   "cell_type": "code",
   "execution_count": 25,
   "metadata": {},
   "outputs": [
    {
     "name": "stdout",
     "output_type": "stream",
     "text": [
      "[1 2 3 4 5]\n",
      "[2 3 4]\n",
      "[2 3 4 7]\n",
      "[ 2  3  4  7 26 58 76]\n",
      "[100   2   3   4   7  26  58  76]\n",
      "[100 200   2   3   4 200   7  26  58  76]\n",
      "[100 200  50  51  52   2   3   4 200   7  26  58  76]\n"
     ]
    }
   ],
   "source": [
    "x = np.array([1, 2, 3, 4, 5])\n",
    "print(x)\n",
    "\n",
    "# Delete first and last element\n",
    "x = np.delete(x, [0, 4])\n",
    "print(x)\n",
    "\n",
    "# Append values\n",
    "x = np.append(x, 7)\n",
    "print(x)\n",
    "\n",
    "x = np.append(x, [26, 58, 76])\n",
    "print(x)\n",
    "\n",
    "# Insert - (input array, position, array to be inserted, axisS)\n",
    "x = np.insert(x, 0, 100)\n",
    "print(x)\n",
    "\n",
    "x = np.insert(x, [1, 4], 200)\n",
    "print(x)\n",
    "\n",
    "x = np.insert(x, 2, [50, 51, 52])\n",
    "print(x)"
   ]
  },
  {
   "cell_type": "markdown",
   "metadata": {},
   "source": [
    "Rank 2 arrays"
   ]
  },
  {
   "cell_type": "code",
   "execution_count": 35,
   "metadata": {},
   "outputs": [
    {
     "name": "stdout",
     "output_type": "stream",
     "text": [
      "[[1 2 3]\n",
      " [4 5 6]\n",
      " [7 8 9]]\n",
      "[[4 5 6]\n",
      " [7 8 9]]\n",
      "[[5]\n",
      " [8]]\n",
      "[[1 2 3]\n",
      " [4 5 6]\n",
      " [7 8 9]]\n",
      "[[ 1  2  3]\n",
      " [ 4  5  6]\n",
      " [ 7  8  9]\n",
      " [10 11 12]]\n",
      "[[ 1  2  3 51]\n",
      " [ 4  5  6 52]\n",
      " [ 7  8  9 53]\n",
      " [10 11 12 54]]\n",
      "[[1 2 3]\n",
      " [4 5 6]\n",
      " [7 8 9]]\n",
      "[[ 1  2  3]\n",
      " [11 12 13]\n",
      " [ 4  5  6]\n",
      " [ 7  8  9]]\n",
      "[[ 1  2 32  3]\n",
      " [11 12 33 13]\n",
      " [ 4  5 34  6]\n",
      " [ 7  8 35  9]]\n",
      "[[  1 500   2  32   3]\n",
      " [ 11 500  12  33  13]\n",
      " [  4 500   5  34   6]\n",
      " [  7 500   8  35   9]]\n"
     ]
    }
   ],
   "source": [
    "# ===== Rank 2 arrays =======\n",
    "x = np.arange(1, 10).reshape(3, 3) \n",
    "print(x)\n",
    "\n",
    "# delete 0th row\n",
    "x = np.delete(x, 0, axis=0)\n",
    "print(x)\n",
    "\n",
    "# delet 0th and last column\n",
    "x = np.delete(x, [0, 2], axis=1)\n",
    "print(x)\n",
    "\n",
    "# Append\n",
    "x = np.arange(1, 10).reshape(3, 3) \n",
    "print(x)\n",
    "\n",
    "x = np.append(x, [[10, 11, 12]], axis=0)\n",
    "print(x)\n",
    "x = np.append(x, [[51], [52], [53], [54]], axis=1)\n",
    "print(x)\n",
    "\n",
    "# Insert\n",
    "x = np.arange(1, 10).reshape(3, 3) \n",
    "print(x)\n",
    "\n",
    "x = np.insert(x, 1, [11, 12, 13], axis=0)\n",
    "print(x)\n",
    "\n",
    "x = np.insert(x, 2, [32, 33, 34, 35], axis=1)\n",
    "print(x)\n",
    "\n",
    "# insert a column full of 500\n",
    "x = np.insert(x, 1, 500, axis=1)\n",
    "print(x)"
   ]
  },
  {
   "cell_type": "markdown",
   "metadata": {},
   "source": [
    "**Stacking ndarrays**\n",
    "\n",
    "This assumes the shape of the arrays being stacked match each other.\n",
    "\n",
    "Note vstack takes input as tuples (( ))"
   ]
  },
  {
   "cell_type": "code",
   "execution_count": 43,
   "metadata": {},
   "outputs": [
    {
     "name": "stdout",
     "output_type": "stream",
     "text": [
      "[[1 2]\n",
      " [3 4]\n",
      " [5 6]]\n",
      "[[ 1  2 51]\n",
      " [ 3  4 52]\n",
      " [ 5  6 53]]\n"
     ]
    }
   ],
   "source": [
    "x = np.array([1, 2])\n",
    "y = np.array([[3, 4], [5, 6]])\n",
    "v = np.vstack((x, y))\n",
    "print(v)\n",
    "\n",
    "h = np.hstack((v, np.array([51, 52, 53]).reshape(3,1)))\n",
    "print(h)"
   ]
  },
  {
   "cell_type": "markdown",
   "metadata": {},
   "source": [
    "### Slicing the Arrays\n",
    "\n",
    "starting index (inclusive), ending index(exclusive)"
   ]
  },
  {
   "cell_type": "code",
   "execution_count": 53,
   "metadata": {},
   "outputs": [
    {
     "name": "stdout",
     "output_type": "stream",
     "text": [
      "[[ 1  2  3  4  5]\n",
      " [ 6  7  8  9 10]\n",
      " [11 12 13 14 15]\n",
      " [16 17 18 19 20]]\n",
      "[[ 8  9 10]\n",
      " [13 14 15]\n",
      " [18 19 20]]\n",
      "[[ 8  9 10]\n",
      " [13 14 15]\n",
      " [18 19 20]]\n",
      "[[ 3  4  5]\n",
      " [ 8  9 10]\n",
      " [13 14 15]]\n",
      "[ 3  8 13 18]\n",
      "[[ 3]\n",
      " [ 8]\n",
      " [13]\n",
      " [18]]\n"
     ]
    }
   ],
   "source": [
    "x = np.arange(1, 21).reshape(4, 5)\n",
    "print(x)\n",
    "\n",
    "# 4,5 excluded\n",
    "print(x[1:4, 2:5])\n",
    "\n",
    "print(x[1:, 2:])\n",
    "\n",
    "print(x[:3, 2:])\n",
    "\n",
    "# returns a rank 1 result\n",
    "print(x[:, 2])\n",
    "\n",
    "# returns a rank 2 result *\n",
    "print(x[:, 2:3])"
   ]
  },
  {
   "cell_type": "markdown",
   "metadata": {},
   "source": [
    "**Copy**\n",
    "\n",
    "Numpy slicing is changing the mutable array. If we change values in the slice, we change the original too. To prevent this use, numpy.copy\n"
   ]
  },
  {
   "cell_type": "code",
   "execution_count": 55,
   "metadata": {},
   "outputs": [
    {
     "name": "stdout",
     "output_type": "stream",
     "text": [
      "[[ 1  2  3  4  5]\n",
      " [ 6  7  8  9 10]\n",
      " [11 12 13 14 15]\n",
      " [16 17 18 19 20]]\n",
      "[[ 8  9 10]\n",
      " [13 14 15]\n",
      " [18 19 20]]\n",
      "[[  8   9  10]\n",
      " [ 13  14  15]\n",
      " [ 18  19 555]]\n",
      "[[  1   2   3   4   5]\n",
      " [  6   7   8   9  10]\n",
      " [ 11  12  13  14  15]\n",
      " [ 16  17  18  19 555]]\n"
     ]
    }
   ],
   "source": [
    "x = np.arange(1, 21).reshape(4,5)\n",
    "print(x)\n",
    "\n",
    "z = x[1:, 2:]\n",
    "print(z)\n",
    "z[2, 2] = 555;\n",
    "print(z)\n",
    "print(x)\n"
   ]
  },
  {
   "cell_type": "code",
   "execution_count": 57,
   "metadata": {},
   "outputs": [
    {
     "name": "stdout",
     "output_type": "stream",
     "text": [
      "[[ 1  2  3  4  5]\n",
      " [ 6  7  8  9 10]\n",
      " [11 12 13 14 15]\n",
      " [16 17 18 19 20]]\n",
      "[[  8   9  10]\n",
      " [ 13  14  15]\n",
      " [ 18  19 555]]\n",
      "[[ 1  2  3  4  5]\n",
      " [ 6  7  8  9 10]\n",
      " [11 12 13 14 15]\n",
      " [16 17 18 19 20]]\n"
     ]
    }
   ],
   "source": [
    "# Using Copy()\n",
    "x = np.arange(1, 21).reshape(4,5)\n",
    "print(x)\n",
    "\n",
    "z = np.copy(x[1:, 2:])\n",
    "\n",
    "# another way\n",
    "y = x[1:, 2:].copy()\n",
    "\n",
    "z[2, 2] = 555;\n",
    "print(z)\n",
    "print(x)"
   ]
  },
  {
   "cell_type": "markdown",
   "metadata": {},
   "source": [
    "**Elements around diagonal**"
   ]
  },
  {
   "cell_type": "code",
   "execution_count": 63,
   "metadata": {},
   "outputs": [
    {
     "name": "stdout",
     "output_type": "stream",
     "text": [
      "[[10  0  0]\n",
      " [ 0 20  0]\n",
      " [ 0  0 30]]\n",
      "[ 1  7 13 19]\n",
      "[ 2  8 14 20]\n",
      "[ 3  9 15]\n",
      "[ 6 12 18]\n",
      "[]\n"
     ]
    }
   ],
   "source": [
    "x = np.diag([10, 20, 30])\n",
    "print(x)**Unique**\n",
    "\n",
    "x = np.arange(1, 21).reshape(4,5)\n",
    "z = np.diag(x)\n",
    "print(z)\n",
    "\n",
    "# 1 row above the leading diagonal\n",
    "print(np.diag(x, k=1))\n",
    "\n",
    "print(np.diag(x, k=2))\n",
    "\n",
    "# 1 row below the leading diagonal\n",
    "print(np.diag(x, k=-1))\n",
    "\n",
    "print(np.diag(x, k=5))"
   ]
  },
  {
   "cell_type": "markdown",
   "metadata": {},
   "source": [
    "**Unique**"
   ]
  },
  {
   "cell_type": "code",
   "execution_count": 65,
   "metadata": {},
   "outputs": [
    {
     "name": "stdout",
     "output_type": "stream",
     "text": [
      "[1 2 3 5 8]\n"
     ]
    }
   ],
   "source": [
    "x = np.array([[1, 2, 3], [1, 5, 2], [2, 8 ,3]])\n",
    "print(np.unique(x))"
   ]
  },
  {
   "cell_type": "code",
   "execution_count": 100,
   "metadata": {},
   "outputs": [
    {
     "name": "stdout",
     "output_type": "stream",
     "text": [
      "[[ 184 1130 3679 ... 4118 1313 1948]\n",
      " [ 889 3332 2355 ... 1384 2156 4297]\n",
      " [3058  220  274 ... 2465 4430 3941]\n",
      " ...\n",
      " [1944 4703  326 ... 1528  803  242]\n",
      " [1121 2583 2610 ... 2170 4277 4619]\n",
      " [1084 3170 1511 ...  658 3905 1298]]\n",
      "(1000, 20)\n",
      "[[1 2]\n",
      " [3 4]]\n",
      "[[5 6]\n",
      " [7 8]]\n",
      "[[-4 -4]\n",
      " [-4 -4]]\n",
      "[1.5 3.5]\n",
      "[0 7 5 1 9 3 6 8 2 4]\n",
      "10\n",
      "[0 7 5 1 9 3 6 8 2 4]\n",
      "[6 8]\n",
      "[2 4]\n"
     ]
    }
   ],
   "source": [
    "# Create a 1000 x 20 ndarray with random integers in the half-open interval [0, 5001).\n",
    "X= np.random.randint(0, 5001, (1000, 20))\n",
    "print(X)\n",
    "\n",
    "# print the shape of X\n",
    "print(np.shape(X))\n",
    "\n",
    "x = np.array([[1, 2],[3, 4]])\n",
    "y = np.array([[5, 6],[7, 8]])\n",
    "print(x)\n",
    "print(y)\n",
    "print(x-y)\n",
    "print(np.mean(x, axis=1))\n",
    "np.shape(x)\n",
    "x = np.random.permutation(10)\n",
    "print(x)\n",
    "print(np.size(x))\n",
    "print(x[:])\n",
    "print(x[6:8])\n",
    "print(x[-2:])"
   ]
  },
  {
   "cell_type": "code",
   "execution_count": null,
   "metadata": {},
   "outputs": [],
   "source": []
  }
 ],
 "metadata": {
  "kernelspec": {
   "display_name": "Python 3",
   "language": "python",
   "name": "python3"
  },
  "language_info": {
   "codemirror_mode": {
    "name": "ipython",
    "version": 3
   },
   "file_extension": ".py",
   "mimetype": "text/x-python",
   "name": "python",
   "nbconvert_exporter": "python",
   "pygments_lexer": "ipython3",
   "version": "3.7.7"
  }
 },
 "nbformat": 4,
 "nbformat_minor": 4
}
