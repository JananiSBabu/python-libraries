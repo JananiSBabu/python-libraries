{
 "cells": [
  {
   "cell_type": "markdown",
   "metadata": {},
   "source": [
    "# Creating and saving NdArrays\n"
   ]
  },
  {
   "cell_type": "code",
   "execution_count": 2,
   "metadata": {},
   "outputs": [
    {
     "name": "stdout",
     "output_type": "stream",
     "text": [
      "x =  [1 2 3 4 5]\n"
     ]
    }
   ],
   "source": [
    "# import numpy into python\n",
    "import numpy as np\n",
    "\n",
    "# Create 1D ndarray using array() function\n",
    "x = np.array([1, 2, 3, 4, 5])\n",
    "\n",
    "# print the array\n",
    "print(\"x = \", x)"
   ]
  },
  {
   "cell_type": "markdown",
   "metadata": {},
   "source": [
    "Determine the shape and dtype of the nd array"
   ]
  },
  {
   "cell_type": "code",
   "execution_count": 6,
   "metadata": {},
   "outputs": [
    {
     "name": "stdout",
     "output_type": "stream",
     "text": [
      "x has dimensions  :   (5,)\n",
      "type of x is  :   <class 'numpy.ndarray'>\n",
      "Elements of x are of type:  int32\n"
     ]
    }
   ],
   "source": [
    "print(\"x has dimensions  :  \", x.shape)\n",
    "print(\"type of x is  :  \", type(x))\n",
    "print(\"Elements of x are of type: \", x.dtype)"
   ]
  },
  {
   "cell_type": "markdown",
   "metadata": {},
   "source": [
    "Datatypes supported by Numpy: https://docs.scipy.org/doc/numpy-1.13.0/user/basics.types.html\n"
   ]
  },
  {
   "cell_type": "code",
   "execution_count": 8,
   "metadata": {},
   "outputs": [
    {
     "name": "stdout",
     "output_type": "stream",
     "text": [
      "['Hello' 'World' 'veronica'] \n",
      "\n",
      "x has dimensions  :   (3,)\n",
      "type of x is  :   <class 'numpy.ndarray'>\n",
      "Elements of x are of type:  <U8\n"
     ]
    }
   ],
   "source": [
    "x = np.array(['Hello','World','veronica'])\n",
    "print(x, \"\\n\")\n",
    "print(\"x has dimensions  :  \", x.shape)\n",
    "print(\"type of x is  :  \", type(x))\n",
    "print(\"Elements of x are of type: \", x.dtype)"
   ]
  },
  {
   "cell_type": "markdown",
   "metadata": {},
   "source": [
    "Here, shape of x were (5,) and (2,) indicating that it is a 1D array or rank 1 vector. the data type U5 indicates that the elements are unicode strings with 5 characters.\n",
    "\n",
    "Difference between python lists and nd arrays is that ndarray can onlu hold elements of the same data type. When we pass in a heterogenous python list to create ndarray, numpy will convert them intp strings and store them as unicode charaters"
   ]
  },
  {
   "cell_type": "code",
   "execution_count": 9,
   "metadata": {},
   "outputs": [
    {
     "name": "stdout",
     "output_type": "stream",
     "text": [
      "['wonbderful' '1' '5' '5.63'] \n",
      "\n",
      "x has dimensions  :   (4,)\n",
      "type of x is  :   <class 'numpy.ndarray'>\n",
      "Elements of x are of type:  <U10\n"
     ]
    }
   ],
   "source": [
    "# create a heterogenous python list\n",
    "lst = [\"wonbderful\", 1, 5, 5.630]\n",
    "x = np.array(lst)\n",
    "print(x, \"\\n\")\n",
    "print(\"x has dimensions  :  \", x.shape)\n",
    "print(\"type of x is  :  \", type(x))\n",
    "print(\"Elements of x are of type: \", x.dtype)"
   ]
  },
  {
   "cell_type": "markdown",
   "metadata": {},
   "source": [
    "**Multi dimensional array**"
   ]
  },
  {
   "cell_type": "code",
   "execution_count": 11,
   "metadata": {},
   "outputs": [
    {
     "name": "stdout",
     "output_type": "stream",
     "text": [
      "[[ 1  2  3]\n",
      " [ 4  5  6]\n",
      " [ 7  8  9]\n",
      " [10 11 12]] \n",
      "\n",
      "x has dimensions  :   (4, 3)\n",
      "x has a total of   :   12 elements\n",
      "type of x is  :   <class 'numpy.ndarray'>\n",
      "Elements of x are of type:  int32\n"
     ]
    }
   ],
   "source": [
    "x = np.array([[1, 2, 3], [4, 5, 6], [7, 8, 9], [10, 11, 12]])\n",
    "\n",
    "print(x, \"\\n\")\n",
    "print(\"x has dimensions  :  \", x.shape)\n",
    "print(\"x has a total of   :  \", x.size, \"elements\")\n",
    "print(\"type of x is  :  \", type(x))\n",
    "print(\"Elements of x are of type: \", x.dtype)"
   ]
  },
  {
   "cell_type": "markdown",
   "metadata": {},
   "source": [
    "**Upcasting**\n",
    "\n",
    "NdArray of ints and floast will be stored as float64"
   ]
  },
  {
   "cell_type": "code",
   "execution_count": 14,
   "metadata": {},
   "outputs": [
    {
     "name": "stdout",
     "output_type": "stream",
     "text": [
      "data type :  int32\n",
      "data type :  float64\n",
      "data type :  float64\n"
     ]
    }
   ],
   "source": [
    "# ndarray - ints\n",
    "x = np.array([1, 2, 3, 4])\n",
    "print(\"data type : \", x.dtype)\n",
    "\n",
    "# ndarray - floats\n",
    "x = np.array([1.3, 2.6, 3.5, 4.1])\n",
    "print(\"data type : \", x.dtype)\n",
    "\n",
    "# ndarray of ints and floats\n",
    "x = np.array([9, 7, 3.5, 3])\n",
    "print(\"data type : \", x.dtype)"
   ]
  },
  {
   "cell_type": "markdown",
   "metadata": {},
   "source": [
    "**Saving  and Loading NdArrays**\n",
    "\n",
    "The arrays are stored ina  file with \".npy\" extension"
   ]
  },
  {
   "cell_type": "code",
   "execution_count": 19,
   "metadata": {},
   "outputs": [
    {
     "name": "stdout",
     "output_type": "stream",
     "text": [
      "[1 2 3 4 5]\n"
     ]
    }
   ],
   "source": [
    "# creata array\n",
    "x = np.array([1, 2, 3, 4, 5])\n",
    "\n",
    "# save array into current directory\n",
    "np.save('my_array', x)\n",
    "\n",
    "# load the array\n",
    "y = np.load('my_array.npy')\n",
    "print(y)"
   ]
  },
  {
   "cell_type": "markdown",
   "metadata": {},
   "source": [
    "## 2. Built-in functions to create ndarrays\n",
    "\n",
    "Note that the input to zeros, ones functions are tuples, so we need two braces (( ))"
   ]
  },
  {
   "cell_type": "code",
   "execution_count": 22,
   "metadata": {},
   "outputs": [
    {
     "name": "stdout",
     "output_type": "stream",
     "text": [
      "[[0. 0. 0. 0.]\n",
      " [0. 0. 0. 0.]\n",
      " [0. 0. 0. 0.]]\n",
      "dtype:  float64\n",
      "[[0 0 0 0]\n",
      " [0 0 0 0]\n",
      " [0 0 0 0]]\n",
      "dtype:  int32\n"
     ]
    }
   ],
   "source": [
    "# np arrays of zeros\n",
    "x = np.zeros((3, 4))\n",
    "print(x)\n",
    "print(\"dtype: \", x.dtype)\n",
    "\n",
    "# dtype can be specified while creation\n",
    "x = np.zeros((3, 4), dtype = int)\n",
    "print(x)\n",
    "print(\"dtype: \", x.dtype)\n"
   ]
  },
  {
   "cell_type": "code",
   "execution_count": 24,
   "metadata": {},
   "outputs": [
    {
     "name": "stdout",
     "output_type": "stream",
     "text": [
      "[[1. 1. 1. 1. 1. 1.]\n",
      " [1. 1. 1. 1. 1. 1.]\n",
      " [1. 1. 1. 1. 1. 1.]\n",
      " [1. 1. 1. 1. 1. 1.]\n",
      " [1. 1. 1. 1. 1. 1.]]\n"
     ]
    }
   ],
   "source": [
    "# np arrays of ones\n",
    "x = np.ones((5,6))\n",
    "print(x)"
   ]
  },
  {
   "cell_type": "code",
   "execution_count": 26,
   "metadata": {},
   "outputs": [
    {
     "name": "stdout",
     "output_type": "stream",
     "text": [
      "[[6 6 6 6]\n",
      " [6 6 6 6]\n",
      " [6 6 6 6]]\n"
     ]
    }
   ],
   "source": [
    "# np array of \"constants\"\n",
    "x = np.full((3, 4), 6)\n",
    "print(x)"
   ]
  },
  {
   "cell_type": "markdown",
   "metadata": {},
   "source": [
    "To create identity matrix"
   ]
  },
  {
   "cell_type": "code",
   "execution_count": 28,
   "metadata": {},
   "outputs": [
    {
     "name": "stdout",
     "output_type": "stream",
     "text": [
      "[[1. 0. 0. 0. 0.]\n",
      " [0. 1. 0. 0. 0.]\n",
      " [0. 0. 1. 0. 0.]\n",
      " [0. 0. 0. 1. 0.]\n",
      " [0. 0. 0. 0. 1.]]\n"
     ]
    }
   ],
   "source": [
    "x = np.eye(5)\n",
    "print(x)"
   ]
  },
  {
   "cell_type": "code",
   "execution_count": 30,
   "metadata": {},
   "outputs": [
    {
     "name": "stdout",
     "output_type": "stream",
     "text": [
      "[[10  0  0  0  0]\n",
      " [ 0 20  0  0  0]\n",
      " [ 0  0 30  0  0]\n",
      " [ 0  0  0 40  0]\n",
      " [ 0  0  0  0 50]]\n"
     ]
    }
   ],
   "source": [
    "# diag takes sequence of diagonal values\n",
    "x = np.diag([10, 20, 30, 40 ,50 ])\n",
    "print(x)"
   ]
  },
  {
   "cell_type": "markdown",
   "metadata": {},
   "source": [
    "**Arange** - start (inclusive), stop(exclusive), step"
   ]
  },
  {
   "cell_type": "code",
   "execution_count": 35,
   "metadata": {},
   "outputs": [
    {
     "name": "stdout",
     "output_type": "stream",
     "text": [
      "[0 1 2 3 4 5 6 7 8 9]\n",
      "[4 5 6 7 8 9]\n",
      "[ 1  4  7 10 13]\n",
      "[1]\n",
      "[ 1.   1.5  2.   2.5  3.   3.5  4.   4.5  5.   5.5  6.   6.5  7.   7.5\n",
      "  8.   8.5  9.   9.5 10.  10.5 11.  11.5 12.  12.5 13.  13.5 14.  14.5]\n"
     ]
    }
   ],
   "source": [
    "# arange with only end value\n",
    "x = np.arange(10)\n",
    "print(x)\n",
    "\n",
    "# with start, stop\n",
    "x = np.arange(4, 10)\n",
    "print(x)\n",
    "\n",
    "# with start, stop and step\n",
    "x = np.arange(1, 15, 3)\n",
    "print(x)\n",
    "\n",
    "x = np.arange(1, 15, 21)\n",
    "print(x)\n",
    "\n",
    "x = np.arange(1, 15, 0.5)\n",
    "print(x)"
   ]
  },
  {
   "cell_type": "markdown",
   "metadata": {},
   "source": [
    "**Linspace** - start(inclusive), stop(inclusive), N (number of elements)\n",
    "\n",
    "Even though arange allows, non-integer steps, its better to use \"linspace\" to generate that. Linspace creates N evenly spaced number from sttart and stop. N is optional and defaults to 50"
   ]
  },
  {
   "cell_type": "code",
   "execution_count": 41,
   "metadata": {},
   "outputs": [
    {
     "name": "stdout",
     "output_type": "stream",
     "text": [
      "[ 5.          5.10204082  5.20408163  5.30612245  5.40816327  5.51020408\n",
      "  5.6122449   5.71428571  5.81632653  5.91836735  6.02040816  6.12244898\n",
      "  6.2244898   6.32653061  6.42857143  6.53061224  6.63265306  6.73469388\n",
      "  6.83673469  6.93877551  7.04081633  7.14285714  7.24489796  7.34693878\n",
      "  7.44897959  7.55102041  7.65306122  7.75510204  7.85714286  7.95918367\n",
      "  8.06122449  8.16326531  8.26530612  8.36734694  8.46938776  8.57142857\n",
      "  8.67346939  8.7755102   8.87755102  8.97959184  9.08163265  9.18367347\n",
      "  9.28571429  9.3877551   9.48979592  9.59183673  9.69387755  9.79591837\n",
      "  9.89795918 10.        ] \n",
      "\n",
      "[ 0.          2.77777778  5.55555556  8.33333333 11.11111111 13.88888889\n",
      " 16.66666667 19.44444444 22.22222222 25.        ] \n",
      "\n",
      "[ 0.   2.5  5.   7.5 10.  12.5 15.  17.5 20.  22.5] \n",
      "\n"
     ]
    }
   ],
   "source": [
    "# linspace with only start and stop, N = 50 default\n",
    "x = np.linspace(5, 10)\n",
    "print(x, \"\\n\")\n",
    "\n",
    "# start/stop - inclusive\n",
    "x = np.linspace(0,25,10)\n",
    "print(x, \"\\n\")\n",
    "\n",
    "# to make stop - exclusive\n",
    "x = np.linspace(0,25,10, endpoint = False)\n",
    "print(x, \"\\n\")\n"
   ]
  },
  {
   "cell_type": "markdown",
   "metadata": {},
   "source": [
    "**Reshape** "
   ]
  },
  {
   "cell_type": "code",
   "execution_count": 44,
   "metadata": {},
   "outputs": [
    {
     "name": "stdout",
     "output_type": "stream",
     "text": [
      "[ 0  1  2  3  4  5  6  7  8  9 10 11 12 13 14 15 16 17 18 19] \n",
      "\n",
      "[[ 0  1  2  3  4]\n",
      " [ 5  6  7  8  9]\n",
      " [10 11 12 13 14]\n",
      " [15 16 17 18 19]] \n",
      "\n",
      "[[ 0  1]\n",
      " [ 2  3]\n",
      " [ 4  5]\n",
      " [ 6  7]\n",
      " [ 8  9]\n",
      " [10 11]\n",
      " [12 13]\n",
      " [14 15]\n",
      " [16 17]\n",
      " [18 19]] \n",
      "\n"
     ]
    },
    {
     "ename": "ValueError",
     "evalue": "cannot reshape array of size 20 into shape (4,7)",
     "output_type": "error",
     "traceback": [
      "\u001b[1;31m---------------------------------------------------------------------------\u001b[0m",
      "\u001b[1;31mValueError\u001b[0m                                Traceback (most recent call last)",
      "\u001b[1;32m<ipython-input-44-8e6db902038a>\u001b[0m in \u001b[0;36m<module>\u001b[1;34m\u001b[0m\n\u001b[0;32m     10\u001b[0m \u001b[1;33m\u001b[0m\u001b[0m\n\u001b[0;32m     11\u001b[0m \u001b[1;31m# shape is bigger than elements\u001b[0m\u001b[1;33m\u001b[0m\u001b[1;33m\u001b[0m\u001b[1;33m\u001b[0m\u001b[0m\n\u001b[1;32m---> 12\u001b[1;33m \u001b[0my\u001b[0m \u001b[1;33m=\u001b[0m \u001b[0mnp\u001b[0m\u001b[1;33m.\u001b[0m\u001b[0mreshape\u001b[0m\u001b[1;33m(\u001b[0m\u001b[0mn\u001b[0m\u001b[1;33m,\u001b[0m \u001b[1;33m(\u001b[0m\u001b[1;36m4\u001b[0m\u001b[1;33m,\u001b[0m\u001b[1;36m7\u001b[0m\u001b[1;33m)\u001b[0m\u001b[1;33m)\u001b[0m\u001b[1;33m\u001b[0m\u001b[1;33m\u001b[0m\u001b[0m\n\u001b[0m\u001b[0;32m     13\u001b[0m \u001b[0mprint\u001b[0m\u001b[1;33m(\u001b[0m\u001b[0my\u001b[0m\u001b[1;33m,\u001b[0m \u001b[1;34m\"\\n\"\u001b[0m\u001b[1;33m)\u001b[0m\u001b[1;33m\u001b[0m\u001b[1;33m\u001b[0m\u001b[0m\n",
      "\u001b[1;32m<__array_function__ internals>\u001b[0m in \u001b[0;36mreshape\u001b[1;34m(*args, **kwargs)\u001b[0m\n",
      "\u001b[1;32m~\\anaconda3\\lib\\site-packages\\numpy\\core\\fromnumeric.py\u001b[0m in \u001b[0;36mreshape\u001b[1;34m(a, newshape, order)\u001b[0m\n\u001b[0;32m    299\u001b[0m            [5, 6]])\n\u001b[0;32m    300\u001b[0m     \"\"\"\n\u001b[1;32m--> 301\u001b[1;33m     \u001b[1;32mreturn\u001b[0m \u001b[0m_wrapfunc\u001b[0m\u001b[1;33m(\u001b[0m\u001b[0ma\u001b[0m\u001b[1;33m,\u001b[0m \u001b[1;34m'reshape'\u001b[0m\u001b[1;33m,\u001b[0m \u001b[0mnewshape\u001b[0m\u001b[1;33m,\u001b[0m \u001b[0morder\u001b[0m\u001b[1;33m=\u001b[0m\u001b[0morder\u001b[0m\u001b[1;33m)\u001b[0m\u001b[1;33m\u001b[0m\u001b[1;33m\u001b[0m\u001b[0m\n\u001b[0m\u001b[0;32m    302\u001b[0m \u001b[1;33m\u001b[0m\u001b[0m\n\u001b[0;32m    303\u001b[0m \u001b[1;33m\u001b[0m\u001b[0m\n",
      "\u001b[1;32m~\\anaconda3\\lib\\site-packages\\numpy\\core\\fromnumeric.py\u001b[0m in \u001b[0;36m_wrapfunc\u001b[1;34m(obj, method, *args, **kwds)\u001b[0m\n\u001b[0;32m     59\u001b[0m \u001b[1;33m\u001b[0m\u001b[0m\n\u001b[0;32m     60\u001b[0m     \u001b[1;32mtry\u001b[0m\u001b[1;33m:\u001b[0m\u001b[1;33m\u001b[0m\u001b[1;33m\u001b[0m\u001b[0m\n\u001b[1;32m---> 61\u001b[1;33m         \u001b[1;32mreturn\u001b[0m \u001b[0mbound\u001b[0m\u001b[1;33m(\u001b[0m\u001b[1;33m*\u001b[0m\u001b[0margs\u001b[0m\u001b[1;33m,\u001b[0m \u001b[1;33m**\u001b[0m\u001b[0mkwds\u001b[0m\u001b[1;33m)\u001b[0m\u001b[1;33m\u001b[0m\u001b[1;33m\u001b[0m\u001b[0m\n\u001b[0m\u001b[0;32m     62\u001b[0m     \u001b[1;32mexcept\u001b[0m \u001b[0mTypeError\u001b[0m\u001b[1;33m:\u001b[0m\u001b[1;33m\u001b[0m\u001b[1;33m\u001b[0m\u001b[0m\n\u001b[0;32m     63\u001b[0m         \u001b[1;31m# A TypeError occurs if the object does have such a method in its\u001b[0m\u001b[1;33m\u001b[0m\u001b[1;33m\u001b[0m\u001b[1;33m\u001b[0m\u001b[0m\n",
      "\u001b[1;31mValueError\u001b[0m: cannot reshape array of size 20 into shape (4,7)"
     ]
    }
   ],
   "source": [
    "n = np.arange(20)\n",
    "print(n, \"\\n\")\n",
    "\n",
    "# shape specified is compatible with number of elements\n",
    "x = np.reshape(n, (4,5))\n",
    "print(x, \"\\n\")\n",
    "\n",
    "x = np.reshape(n, (10, 2))\n",
    "print(x, \"\\n\")\n",
    "\n",
    "# shape is bigger than elements\n",
    "y = np.reshape(n, (4,7))\n",
    "print(y, \"\\n\")\n"
   ]
  },
  {
   "cell_type": "markdown",
   "metadata": {},
   "source": [
    "**Sequence of functions**"
   ]
  },
  {
   "cell_type": "code",
   "execution_count": 50,
   "metadata": {},
   "outputs": [
    {
     "name": "stdout",
     "output_type": "stream",
     "text": [
      "[[ 0  1]\n",
      " [ 2  3]\n",
      " [ 4  5]\n",
      " [ 6  7]\n",
      " [ 8  9]\n",
      " [10 11]\n",
      " [12 13]\n",
      " [14 15]\n",
      " [16 17]\n",
      " [18 19]] \n",
      "\n",
      "[[ 0.  5.]\n",
      " [10. 15.]\n",
      " [20. 25.]\n",
      " [30. 35.]\n",
      " [40. 45.]] \n",
      "\n"
     ]
    }
   ],
   "source": [
    "y = np.arange(20).reshape(10,2)\n",
    "print(y,\"\\n\")\n",
    "\n",
    "y = np.linspace(0, 50, 10, endpoint=False).reshape(5, 2)\n",
    "print(y,\"\\n\")"
   ]
  },
  {
   "cell_type": "markdown",
   "metadata": {},
   "source": [
    "### Random number generation\n"
   ]
  },
  {
   "cell_type": "code",
   "execution_count": 56,
   "metadata": {},
   "outputs": [
    {
     "name": "stdout",
     "output_type": "stream",
     "text": [
      "[[0.25262346 0.57883962 0.55568759]\n",
      " [0.78922629 0.13555888 0.32313149]\n",
      " [0.9312649  0.01203429 0.79752608]]\n",
      "[[14  9 14]\n",
      " [14 13  7]\n",
      " [ 6  5 12]\n",
      " [14 11  6]]\n",
      "[[ 0.01548837  0.1043768  -0.02415895 -0.1722353   0.12611527  0.04628533\n",
      "  -0.02850074 -0.01564702  0.15419327 -0.02708173]\n",
      " [-0.09068411  0.08592405  0.19344785 -0.02654091  0.08804257  0.11700849\n",
      "  -0.05231771  0.10645427 -0.00216753 -0.05200637]\n",
      " [-0.05293474 -0.1617262   0.0477498   0.15247311 -0.15258493  0.07100371\n",
      "  -0.03966878 -0.01532675  0.06755106  0.01203431]\n",
      " [-0.02987863 -0.00257698 -0.11518819  0.12065814  0.02318771  0.04942506\n",
      "  -0.17222084 -0.05517042 -0.00708475  0.02271248]\n",
      " [ 0.04901843 -0.03406047  0.04310014  0.16881652 -0.12287314 -0.06217675\n",
      "   0.03317963 -0.03212842  0.17153268  0.03478461]\n",
      " [-0.00537916 -0.03703344 -0.06376793  0.15280405  0.06755613  0.10044712\n",
      "   0.02571165  0.05784171  0.27622971 -0.09885823]\n",
      " [ 0.03045065  0.07450244 -0.06976169 -0.01241899  0.07698087 -0.04885786\n",
      "  -0.1875912   0.08819075  0.19575316 -0.0680425 ]\n",
      " [-0.06643763  0.06008919 -0.09615438  0.15385854 -0.01890462 -0.03594273\n",
      "   0.15224687  0.0323683  -0.03891784 -0.00629474]\n",
      " [-0.07531153  0.11506308 -0.0381691   0.02310181 -0.11796683 -0.06495097\n",
      "   0.13394892  0.03468659  0.07910558 -0.05089815]\n",
      " [ 0.00240024 -0.03162205 -0.05604109 -0.08431224  0.09410442 -0.0390939\n",
      "   0.09138495 -0.10318601 -0.16998592 -0.03535232]]\n",
      "Mean  :  0.009551969764120314\n",
      "Std  :  0.092371317294983\n",
      "Min  :  -0.18759120006423335\n",
      "Max  :  0.2762297106430562\n"
     ]
    }
   ],
   "source": [
    "x = np.random.random((3, 3))\n",
    "print(x)\n",
    "\n",
    "# creating random numbers with lower and upper bounds\n",
    "x = np.random.randint(4, 15, (4, 3))\n",
    "print(x)\n",
    "\n",
    "# create random numbers that follows a specific probabilistic distribution\n",
    "# Gauss, mean=0, std=0.1\n",
    "x = np.random.normal(0, 0.1, size=(10, 10))\n",
    "print(x)\n",
    "print(\"Mean  : \", x.mean())\n",
    "print(\"Std  : \", x.std())\n",
    "print(\"Min  : \", x.min())\n",
    "print(\"Max  : \", x.max())"
   ]
  },
  {
   "cell_type": "code",
   "execution_count": 62,
   "metadata": {},
   "outputs": [
    {
     "name": "stdout",
     "output_type": "stream",
     "text": [
      "[[ 2  4  6  8]\n",
      " [10 12 14 16]\n",
      " [18 20 22 24]\n",
      " [26 28 30 32]]\n"
     ]
    }
   ],
   "source": [
    "x = np.linspace(2, 32, 16, dtype=int).reshape(4,4)\n",
    "print(x)"
   ]
  },
  {
   "cell_type": "code",
   "execution_count": null,
   "metadata": {},
   "outputs": [],
   "source": []
  }
 ],
 "metadata": {
  "kernelspec": {
   "display_name": "Python 3",
   "language": "python",
   "name": "python3"
  },
  "language_info": {
   "codemirror_mode": {
    "name": "ipython",
    "version": 3
   },
   "file_extension": ".py",
   "mimetype": "text/x-python",
   "name": "python",
   "nbconvert_exporter": "python",
   "pygments_lexer": "ipython3",
   "version": "3.7.7"
  }
 },
 "nbformat": 4,
 "nbformat_minor": 4
}
