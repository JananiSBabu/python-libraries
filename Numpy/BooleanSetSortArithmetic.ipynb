{
 "cells": [
  {
   "cell_type": "markdown",
   "metadata": {},
   "source": [
    "# More NdArray operations\n",
    "\n",
    "**Boolean Indexing**"
   ]
  },
  {
   "cell_type": "code",
   "execution_count": 1,
   "metadata": {},
   "outputs": [],
   "source": [
    "import numpy as np"
   ]
  },
  {
   "cell_type": "code",
   "execution_count": 6,
   "metadata": {},
   "outputs": [
    {
     "name": "stdout",
     "output_type": "stream",
     "text": [
      "[[ 0  1  2  3  4]\n",
      " [ 5  6  7  8  9]\n",
      " [10 11 12 13 14]\n",
      " [15 16 17 18 19]\n",
      " [20 21 22 23 24]]\n",
      "[11 12 13 14 15 16 17 18 19 20 21 22 23 24]\n",
      "[0 1 2 3 4 5 6 7 8]\n",
      "[11 12 13 14 15 16 17 18 19 20 21 22 23]\n",
      "[[  0   1   2   3   4]\n",
      " [  5   6   7   8   9]\n",
      " [ 10 100 100 100 100]\n",
      " [100 100 100 100 100]\n",
      " [100 100 100 100  24]]\n"
     ]
    }
   ],
   "source": [
    "x = np.arange(25).reshape(5,5)\n",
    "print(x)\n",
    "\n",
    "print(x[x > 10])\n",
    "\n",
    "print(x[x <= 8])\n",
    "\n",
    "print(x[(x > 10) & (x <= 23)])\n",
    "\n",
    "x[(x > 10) & (x <= 23)] = 100\n",
    "print(x)"
   ]
  },
  {
   "cell_type": "markdown",
   "metadata": {},
   "source": [
    "**Set Operations**"
   ]
  },
  {
   "cell_type": "code",
   "execution_count": 8,
   "metadata": {},
   "outputs": [
    {
     "name": "stdout",
     "output_type": "stream",
     "text": [
      "[2 4]\n",
      "[1 3 5]\n",
      "[1 2 3 4 5 6 7 8]\n"
     ]
    }
   ],
   "source": [
    "x = np.array([1, 2, 3, 4, 5])\n",
    "y = np.array([6, 7, 2, 8, 4])\n",
    "\n",
    "print(np.intersect1d(x, y))\n",
    "print(np.setdiff1d(x, y))\n",
    "print(np.union1d(x, y))"
   ]
  },
  {
   "cell_type": "markdown",
   "metadata": {},
   "source": [
    "**Sorting**\n",
    "\n",
    "* out of place - does not change original => np.sort(x)\n",
    "* in place - changes the original => x.sort()"
   ]
  },
  {
   "cell_type": "code",
   "execution_count": 18,
   "metadata": {},
   "outputs": [
    {
     "name": "stdout",
     "output_type": "stream",
     "text": [
      "[4 8 6 1 8 3 9 8 9 6]\n",
      "[1 3 4 6 6 8 8 8 9 9]\n",
      "[4 8 6 1 8 3 9 8 9 6]\n",
      "[1 3 4 6 8 9]\n",
      "[1 3 4 6 6 8 8 8 9 9]\n",
      "[[ 5  3  8  8  8]\n",
      " [ 5  2  4 10  5]\n",
      " [ 4  2  1  8  4]\n",
      " [ 7  4  1  9  8]\n",
      " [ 8  7  5  7  1]]\n",
      "[[ 4  2  1  7  1]\n",
      " [ 5  2  1  8  4]\n",
      " [ 5  3  4  8  5]\n",
      " [ 7  4  5  9  8]\n",
      " [ 8  7  8 10  8]]\n",
      "[[ 3  5  8  8  8]\n",
      " [ 2  4  5  5 10]\n",
      " [ 1  2  4  4  8]\n",
      " [ 1  4  7  8  9]\n",
      " [ 1  5  7  7  8]]\n"
     ]
    }
   ],
   "source": [
    "x = np.random.randint(1,11,size=(10,))\n",
    "print(x)\n",
    "\n",
    "# out of place sorting\n",
    "print(np.sort(x))\n",
    "print(x)\n",
    "\n",
    "# sorting only unique elements\n",
    "print(np.sort(np.unique(x)))\n",
    "\n",
    "# inplace sorting - affects the original array\n",
    "x.sort()\n",
    "print(x)\n",
    "\n",
    "# sorting 2d arrays\n",
    "x = np.random.randint(1,11,size=(5,5))\n",
    "print(x)\n",
    "\n",
    "print(np.sort(x, axis=0))\n",
    "\n",
    "print(np.sort(x, axis=1))"
   ]
  },
  {
   "cell_type": "code",
   "execution_count": 22,
   "metadata": {},
   "outputs": [
    {
     "name": "stdout",
     "output_type": "stream",
     "text": [
      "[ 1  3  5  7  9 11 13 15 17 19 21 23 25]\n"
     ]
    }
   ],
   "source": [
    "# display odd numbers from 1 to 25\n",
    "x = np.arange(1, 26).reshape(5,5)\n",
    "print(x[x%2 != 0])"
   ]
  },
  {
   "cell_type": "markdown",
   "metadata": {},
   "source": [
    "### Arithmetic operations"
   ]
  },
  {
   "cell_type": "code",
   "execution_count": 35,
   "metadata": {
    "scrolled": true
   },
   "outputs": [
    {
     "name": "stdout",
     "output_type": "stream",
     "text": [
      "[ 6  8 10 12]\n",
      "[ 6  8 10 12]\n",
      "[-4 -4 -4 -4]\n",
      "[-4 -4 -4 -4]\n",
      "[ 5 12 21 32]\n",
      "[ 5 12 21 32]\n",
      "[0.2        0.33333333 0.42857143 0.5       ]\n",
      "[0.2        0.33333333 0.42857143 0.5       ]\n",
      "[[ 6  8]\n",
      " [10 12]]\n",
      "[[ 6  8]\n",
      " [10 12]]\n",
      "[[-4 -4]\n",
      " [-4 -4]]\n",
      "[[-4 -4]\n",
      " [-4 -4]]\n",
      "[[ 5 12]\n",
      " [21 32]]\n",
      "[[ 5 12]\n",
      " [21 32]]\n",
      "[[0.2        0.33333333]\n",
      " [0.42857143 0.5       ]]\n",
      "[[0.2        0.33333333]\n",
      " [0.42857143 0.5       ]]\n",
      "[[1 2]\n",
      " [3 4]]\n",
      "[[4 5]\n",
      " [6 7]]\n",
      "[[ 7 14]\n",
      " [21 28]]\n"
     ]
    }
   ],
   "source": [
    "x = np.array([1, 2, 3, 4])\n",
    "y = np.array([5, 6, 7, 8])\n",
    "\n",
    "print(x + y)\n",
    "print(np.add(x, y))\n",
    "\n",
    "print(x - y)\n",
    "print(np.subtract(x, y))\n",
    "\n",
    "print(x * y)\n",
    "print(np.multiply(x, y))\n",
    "\n",
    "print(x / y)\n",
    "print(np.divide(x, y))\n",
    "\n",
    "# 2d arrays\n",
    "x = np.array([1, 2, 3, 4]).reshape(2, 2)\n",
    "y = np.array([5, 6, 7, 8]).reshape(2, 2)\n",
    "\n",
    "print(x + y)\n",
    "print(np.add(x, y))\n",
    "\n",
    "print(x - y)\n",
    "print(np.subtract(x, y))\n",
    "\n",
    "print(x * y)\n",
    "print(np.multiply(x, y))\n",
    "\n",
    "print(x / y)\n",
    "print(np.divide(x, y))\n"
   ]
  },
  {
   "cell_type": "markdown",
   "metadata": {},
   "source": [
    "**Broadcasting**\n",
    "\n",
    "When we add 3 to a 2d array, numpy broadcasts 3 to the shape of x"
   ]
  },
  {
   "cell_type": "code",
   "execution_count": 36,
   "metadata": {},
   "outputs": [
    {
     "name": "stdout",
     "output_type": "stream",
     "text": [
      "[1 2 3 4]\n",
      "[4 5 6 7]\n",
      "[ 7 14 21 28]\n",
      "[[0 1 2]\n",
      " [3 4 5]\n",
      " [6 7 8]]\n",
      "[0 1 2]\n",
      "[[ 0  2  4]\n",
      " [ 3  5  7]\n",
      " [ 6  8 10]]\n"
     ]
    }
   ],
   "source": [
    "# ==== Broadcasting =====\n",
    "x = np.array([1, 2, 3, 4])\n",
    "print(x)\n",
    "print(x + 3)\n",
    "print(x * 7)\n",
    "\n",
    "x = np.arange(9).reshape(3,3)\n",
    "y = np.arange(3)\n",
    "print(x)\n",
    "print(y)\n",
    "print(x + y)"
   ]
  },
  {
   "cell_type": "code",
   "execution_count": 33,
   "metadata": {},
   "outputs": [
    {
     "name": "stdout",
     "output_type": "stream",
     "text": [
      "[1 2 3 4]\n",
      "[1.         1.41421356 1.73205081 2.        ]\n",
      "[ 2.71828183  7.3890561  20.08553692 54.59815003]\n",
      "[ 1  4  9 16]\n",
      "[[1 2]\n",
      " [3 4]]\n",
      "2.5\n",
      "2.5\n",
      "[2. 3.]\n",
      "[1.5 3.5]\n",
      "1.118033988749895\n",
      "1\n",
      "4\n",
      "2.5\n"
     ]
    }
   ],
   "source": [
    "x = np.array([1, 2, 3, 4])\n",
    "print(x)\n",
    "\n",
    "print(np.sqrt(x))\n",
    "\n",
    "print(np.exp(x))\n",
    "\n",
    "print(np.power(x, 2))\n",
    "\n",
    "x = np.array([1, 2, 3, 4]).reshape(2,2)\n",
    "print(x)\n",
    "\n",
    "print(np.mean(x))\n",
    "print(x.mean())\n",
    "print(x.mean(axis=0))\n",
    "print(x.mean(axis=1))\n",
    "\n",
    "print(x.std())\n",
    "\n",
    "print(x.min())\n",
    "\n",
    "print(x.max())\n",
    "\n",
    "#print(x.median()) # This is NOT VALID\n",
    "print(np.median(x))"
   ]
  },
  {
   "cell_type": "code",
   "execution_count": 44,
   "metadata": {},
   "outputs": [
    {
     "name": "stdout",
     "output_type": "stream",
     "text": [
      "[[1 2 3 4]\n",
      " [1 2 3 4]\n",
      " [1 2 3 4]\n",
      " [1 2 3 4]]\n"
     ]
    }
   ],
   "source": [
    "x = np.zeros((4,4), dtype=int) + np.arange(1, 5)\n",
    "print(x)"
   ]
  },
  {
   "cell_type": "code",
   "execution_count": null,
   "metadata": {},
   "outputs": [],
   "source": []
  }
 ],
 "metadata": {
  "kernelspec": {
   "display_name": "Python 3",
   "language": "python",
   "name": "python3"
  },
  "language_info": {
   "codemirror_mode": {
    "name": "ipython",
    "version": 3
   },
   "file_extension": ".py",
   "mimetype": "text/x-python",
   "name": "python",
   "nbconvert_exporter": "python",
   "pygments_lexer": "ipython3",
   "version": "3.7.7"
  }
 },
 "nbformat": 4,
 "nbformat_minor": 4
}
